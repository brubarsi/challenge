{
  "nbformat": 4,
  "nbformat_minor": 0,
  "metadata": {
    "colab": {
      "name": "pedido.ipynb",
      "provenance": [],
      "collapsed_sections": [],
      "history_visible": true,
      "mount_file_id": "1AevtCElZ9QQv6kIj-NfK80lTluwM9pQ8",
      "authorship_tag": "ABX9TyPgAy/GGmMWHUXd+yyBa0VC",
      "include_colab_link": true
    },
    "kernelspec": {
      "name": "python3",
      "display_name": "Python 3"
    },
    "language_info": {
      "name": "python"
    }
  },
  "cells": [
    {
      "cell_type": "markdown",
      "metadata": {
        "id": "view-in-github",
        "colab_type": "text"
      },
      "source": [
        "<a href=\"https://colab.research.google.com/github/brubarsi/challenge/blob/main/pedido.ipynb\" target=\"_parent\"><img src=\"https://colab.research.google.com/assets/colab-badge.svg\" alt=\"Open In Colab\"/></a>"
      ]
    },
    {
      "cell_type": "markdown",
      "source": [
        "# Bibiotecas Utilizadas"
      ],
      "metadata": {
        "id": "mxHnSrT-paez"
      }
    },
    {
      "cell_type": "code",
      "execution_count": 4,
      "metadata": {
        "id": "JrRWk5ApDLSF"
      },
      "outputs": [],
      "source": [
        "import json\n",
        "import uuid"
      ]
    },
    {
      "cell_type": "markdown",
      "source": [
        "# Função api()\n",
        "Função para retornar os pedidos, ela simula uma requisição em uma api"
      ],
      "metadata": {
        "id": "U28w_ThnpxQR"
      }
    },
    {
      "cell_type": "code",
      "source": [
        "def api():\n",
        "\n",
        "    with open('pedidos.json') as file_json:\n",
        "        dados = json.load(file_json)\n",
        "    return dados\n"
      ],
      "metadata": {
        "id": "-xkjBbCDp6_6"
      },
      "execution_count": 5,
      "outputs": []
    },
    {
      "cell_type": "markdown",
      "source": [
        "# Função fictícia get_orders(_filters)\n",
        "Essa função que simula a requisição de uma order\n"
      ],
      "metadata": {
        "id": "jIItxrrRrE4C"
      }
    },
    {
      "cell_type": "code",
      "source": [
        "def get_orders(_filters):\n",
        "\n",
        "  #realiza o filtro\n",
        "  key = list(_filters.keys())[0]\n",
        "  value = list(_filters.values())[0]\n",
        "  \n",
        "  with open('orders.json') as file_json:\n",
        "     dados = json.load(file_json)\n",
        "  #percorre o json, e retorna o key e o value iguais ao informado no filtro\n",
        "  dados_filter = [i for i in dados if i[key] == value]\n",
        "  return dados_filter  \n"
      ],
      "metadata": {
        "id": "PIGAVpulrdbh"
      },
      "execution_count": 6,
      "outputs": []
    },
    {
      "cell_type": "markdown",
      "source": [
        "# Função save_order_to_db(_order)\n",
        "\n",
        "Função fictícia que simula a inserção no banco de dados"
      ],
      "metadata": {
        "id": "Ng8tDcYOv1PM"
      }
    },
    {
      "cell_type": "code",
      "source": [
        "def save_order_to_db(_order):\n",
        "\n",
        "  #aqui salvariamos no banco de dados\n",
        "  #criei um id ficticio para simular a geração de id.\n",
        "  return uuid.uuid4()\n"
      ],
      "metadata": {
        "id": "hIsd_430wOCC"
      },
      "execution_count": 7,
      "outputs": []
    },
    {
      "cell_type": "markdown",
      "source": [
        "# Função get_inventory_entries(_sku)\n",
        "Função para verificar se existe estoque"
      ],
      "metadata": {
        "id": "x95ozy0q-3FJ"
      }
    },
    {
      "cell_type": "code",
      "source": [
        "def get_inventory_entries(_sku):\n",
        "\n",
        "   with open('inventory.json') as file_json:\n",
        "      dados = json.load(file_json)\n",
        "      dados_filter = [i for i in dados if i['sku'] == _sku]\n",
        "      return dados_filter"
      ],
      "metadata": {
        "id": "hal8QhUn-_vn"
      },
      "execution_count": 8,
      "outputs": []
    },
    {
      "cell_type": "markdown",
      "source": [
        "#Função reserva_estoque()\n",
        "Função que realiza a reserva do estoque"
      ],
      "metadata": {
        "id": "lzZHsw5CPAPM"
      }
    },
    {
      "cell_type": "code",
      "source": [
        "def reserva_estoque(sku,quantity):\n",
        "  #Aqui deve ser realizado a inserção\n",
        "  print(sku)\n",
        "  print(quantity)"
      ],
      "metadata": {
        "id": "XSVLwaoQPKil"
      },
      "execution_count": 72,
      "outputs": []
    },
    {
      "cell_type": "markdown",
      "source": [
        ""
      ],
      "metadata": {
        "id": "WrrE5WvNv98U"
      }
    },
    {
      "cell_type": "markdown",
      "source": [
        "# Função integra_pedidos()\n",
        "Função que realiza o a primeira parte do desafio"
      ],
      "metadata": {
        "id": "4C_gsKU8uyQi"
      }
    },
    {
      "cell_type": "code",
      "source": [
        "def integra_pedidos():\n",
        "\n",
        "    pedidos = api()\n",
        "\n",
        "    #percorre os pedidos gera a order de acordo com o id\n",
        "    for key,value in pedidos.items():\n",
        "      if (key == 'Id'):\n",
        "         _order = get_orders({'external_id':value})\n",
        "         new_id = save_order_to_db(_order)\n",
        "         print(new_id)\n"
      ],
      "metadata": {
        "id": "QFKlye4CvDGK"
      },
      "execution_count": 9,
      "outputs": []
    },
    {
      "cell_type": "markdown",
      "source": [
        "# Função verifica_estoque()\n",
        "Função que realiza a segunda parte do desafio, que verifica o estoque"
      ],
      "metadata": {
        "id": "Msz27vHjHrIJ"
      }
    },
    {
      "cell_type": "code",
      "source": [
        "def verifica_estoque():\n",
        "\n",
        "  pedidos = api()\n",
        "  #percore os pedidos e verifica o estoque\n",
        "  for key,value in pedidos.items():\n",
        "\n",
        "   if(key == 'Items'):\n",
        "    \n",
        "     estoque =  get_inventory_entries(value[0]['Sku'])\n",
        "    \n",
        "    #verifica se tem estoque suficiente para a quantidade solicitada no pedido\n",
        "     if float(estoque[0]['quantity']) < float(value[0]['Quantity']):\n",
        "       print('Não tem estoque suficiente')\n",
        "     else:\n",
        "       print('Tem estoque')\n",
        "       reserva_estoque(value[0]['Sku'],value[0]['Quantity'])"
      ],
      "metadata": {
        "id": "zQ4oNq7LIIuJ"
      },
      "execution_count": 76,
      "outputs": []
    },
    {
      "cell_type": "markdown",
      "source": [
        "# Testes de Execuções\n"
      ],
      "metadata": {
        "id": "LSKE-tkAvgxk"
      }
    },
    {
      "cell_type": "code",
      "source": [
        "#Teste Exercício1\n",
        "integra_pedidos()"
      ],
      "metadata": {
        "id": "AZu4VyvqvngC"
      },
      "execution_count": null,
      "outputs": []
    },
    {
      "cell_type": "code",
      "source": [
        "#Teste Exercício2\n",
        "verifica_estoque()"
      ],
      "metadata": {
        "id": "j_7ZhQoaJgsc"
      },
      "execution_count": null,
      "outputs": []
    },
    {
      "cell_type": "markdown",
      "source": [
        ""
      ],
      "metadata": {
        "id": "2ab9PsBqqRy5"
      }
    }
  ]
}
